{
 "cells": [
  {
   "cell_type": "code",
   "execution_count": null,
   "metadata": {},
   "outputs": [],
   "source": [
    "import re\n",
    "\n",
    "t = \"\"\"\n",
    "$(this).replaceWith(Base64.decode(unzip(\"asdasdsadasd\").substr(72)).substr(88));\n",
    "                    });\n",
    "\"\"\"\n",
    "r = re.search(r'Base64.decode\\(unzip\\(\"(.*?)\"\\).substr\\((.*?)\\)\\).substr\\((.*?)\\)', t)\n",
    "print(r.groups())\n"
   ]
  },
  {
   "cell_type": "code",
   "execution_count": null,
   "metadata": {},
   "outputs": [],
   "source": [
    "import json\n",
    "f = json.load(open(\"/mnt/d/python/template/spider/job.hebust_article.json\", encoding=\"utf-8\"))\n"
   ]
  }
 ],
 "metadata": {
  "language_info": {
   "name": "python"
  },
  "orig_nbformat": 4
 },
 "nbformat": 4,
 "nbformat_minor": 2
}
